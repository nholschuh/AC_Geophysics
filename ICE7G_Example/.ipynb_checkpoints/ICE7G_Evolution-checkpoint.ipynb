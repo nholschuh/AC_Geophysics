{
 "cells": [
  {
   "cell_type": "markdown",
   "id": "breathing-contract",
   "metadata": {},
   "source": [
    "# Glacial Isostatic Adjustment\n",
    "Running this notebook will load and plot the elevation of the land surface (the top of the crust) from a global glacier reconstruction called ICE7G. Plotted in Cyan is the coverage of ice through time, starting back 21 thousand years ago at the height of the last glacial maximum. Use the slider at the bottom of the graph to explore the range of surface elevation change through time."
   ]
  },
  {
   "cell_type": "code",
   "execution_count": 29,
   "id": "presidential-class",
   "metadata": {},
   "outputs": [
    {
     "data": {
      "application/vnd.jupyter.widget-view+json": {
       "model_id": "22e0010949c64b459d8e727349d34c5c",
       "version_major": 2,
       "version_minor": 0
      },
      "text/plain": [
       "Canvas(toolbar=Toolbar(toolitems=[('Home', 'Reset original view', 'home', 'home'), ('Back', 'Back to previous …"
      ]
     },
     "metadata": {},
     "output_type": "display_data"
    },
    {
     "data": {
      "text/plain": [
       "0"
      ]
     },
     "execution_count": 29,
     "metadata": {},
     "output_type": "execute_result"
    }
   ],
   "source": [
    "%matplotlib widget\n",
    "import numpy as np\n",
    "import xarray as xr\n",
    "import matplotlib.pyplot as plt\n",
    "from matplotlib.widgets import Slider, Button, RadioButtons\n",
    "\n",
    "final_data = xr.open_dataset('../Complete_Ice7G.nc')\n",
    "fig, ax = plt.subplots()\n",
    "fig.set_size_inches(9,5)\n",
    "plt.subplots_adjust(left=0.05, bottom=0.2)\n",
    "\n",
    "\n",
    "\n",
    "im_data = plt.imshow(final_data['Topo'][0,:,:],origin='lower',cmap='gray',extent=[final_data['lon'].min(),final_data['lon'].max(),final_data['lat'].min(),final_data['lat'].max()])\n",
    "im_data2 = plt.imshow(final_data['Topo_Diff'][0,:,:],origin='lower',cmap='seismic',alpha=0.5,vmin=-200,vmax=200,extent=[final_data['lon'].min(),final_data['lon'].max(),final_data['lat'].min(),final_data['lat'].max()])\n",
    "im_data3 = plt.imshow(final_data['stgit'][0,:,:],origin='lower',cmap='cool',vmin=10000,vmax=50000,extent=[final_data['lon'].min(),final_data['lon'].max(),final_data['lat'].min(),final_data['lat'].max()])\n",
    "ax.margins(x=0)\n",
    "ax.set_ylabel('Latitude')\n",
    "ax.set_xlabel('Longitude')\n",
    "cb = fig.colorbar(im_data2,label='Surface Height Difference (relative to today, m)')\n",
    "\n",
    "axtime= plt.axes([0.15, 0.05, 0.5, 0.03], facecolor=[1,1,1])\n",
    "\n",
    "stime = Slider(axtime, 'Age (kyr)', -21, 0, valinit=-21, valstep=0.5)\n",
    "\n",
    "\n",
    "def update(val):\n",
    "    plot_time = -1*stime.val\n",
    "    plot_ind = np.where(final_data['age'] == plot_time)[0][0]\n",
    "    ax.set_title('Age Before Present: '+str(plot_time)+' kyr')\n",
    "    im_data.set_data(final_data['Topo'][plot_ind,:,:])\n",
    "    im_data2.set_data(final_data['Topo_Diff'][plot_ind,:,:])\n",
    "    im_data3.set_data(final_data['stgit'][plot_ind,:,:])\n",
    "    ax.draw()\n",
    "\n",
    "\n",
    "stime.on_changed(update)"
   ]
  }
 ],
 "metadata": {
  "kernelspec": {
   "display_name": "Python 3",
   "language": "python",
   "name": "python3"
  },
  "language_info": {
   "codemirror_mode": {
    "name": "ipython",
    "version": 3
   },
   "file_extension": ".py",
   "mimetype": "text/x-python",
   "name": "python",
   "nbconvert_exporter": "python",
   "pygments_lexer": "ipython3",
   "version": "3.8.5"
  }
 },
 "nbformat": 4,
 "nbformat_minor": 5
}
