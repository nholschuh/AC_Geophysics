{
 "cells": [
  {
   "cell_type": "markdown",
   "id": "native-calculation",
   "metadata": {},
   "source": [
    "# Plate Tectonic Motion\n",
    "Running this notebook will load and plot the elevation of the land surface (the top of the crust) from a global glacier reconstruction called ICE7G. Plotted in Cyan is the coverage of ice through time, starting back 21 thousand years ago at the height of the last glacial maximum. Use the slider at the bottom of the graph to explore the range of surface elevation change through time."
   ]
  },
  {
   "cell_type": "code",
   "execution_count": 1,
   "id": "impressed-philippines",
   "metadata": {
    "tags": []
   },
   "outputs": [
    {
     "data": {
      "application/vnd.jupyter.widget-view+json": {
       "model_id": "f8da41e68196446192617e402c58c565",
       "version_major": 2,
       "version_minor": 0
      },
      "text/plain": [
       "Canvas(toolbar=Toolbar(toolitems=[('Home', 'Reset original view', 'home', 'home'), ('Back', 'Back to previous …"
      ]
     },
     "metadata": {},
     "output_type": "display_data"
    },
    {
     "data": {
      "text/plain": [
       "0"
      ]
     },
     "execution_count": 1,
     "metadata": {},
     "output_type": "execute_result"
    }
   ],
   "source": [
    "%matplotlib widget\n",
    "import numpy as np\n",
    "import xarray as xr\n",
    "import matplotlib.pyplot as plt\n",
    "from matplotlib.widgets import Slider, Button, RadioButtons\n",
    "\n",
    "tectonics = xr.open_dataset('TectonicReconstruction.nc')\n",
    "fig, ax = plt.subplots()\n",
    "fig.set_size_inches(9,5)\n",
    "plt.subplots_adjust(left=0.05, bottom=0.2)\n",
    "\n",
    "imd = np.flipud(np.array([tectonics['r'][0,:,:],tectonics['g'][0,:,:],tectonics['b'][0,:,:]]).swapaxes(0,2).swapaxes(0,1))\n",
    "im_data = plt.imshow(imd,origin='lower',extent=[tectonics['lon'].min(),tectonics['lon'].max(),tectonics['lat'].min(),tectonics['lat'].max()])\n",
    "ax.margins(x=0)\n",
    "ax.set_ylabel('Latitude')\n",
    "ax.set_xlabel('Longitude')\n",
    "\n",
    "axtime= plt.axes([0.15, 0.05, 0.5, 0.03], facecolor=[1,1,1])\n",
    "\n",
    "stime = Slider(axtime, 'Age (Myr)', -540, 0, valinit=-0, valstep=10)\n",
    "\n",
    "\n",
    "def update(val):\n",
    "    plot_time = -1*stime.val\n",
    "    plot_ind = np.where(tectonics['age'] == plot_time)[0][0]\n",
    "    ax.set_title('Age Before Present: '+str(plot_time)+' Myr')\n",
    "    imd = np.array([tectonics['r'][plot_ind,:,:],tectonics['g'][plot_ind,:,:],tectonics['b'][plot_ind,:,:]]).swapaxes(0,2).swapaxes(0,1)\n",
    "    im_data.set_data(np.flipud(imd))\n",
    "    ax.draw()\n",
    "\n",
    "\n",
    "stime.on_changed(update)"
   ]
  },
  {
   "cell_type": "code",
   "execution_count": null,
   "id": "deadly-exclusive",
   "metadata": {},
   "outputs": [],
   "source": []
  }
 ],
 "metadata": {
  "kernelspec": {
   "display_name": "Python 3",
   "language": "python",
   "name": "python3"
  },
  "language_info": {
   "codemirror_mode": {
    "name": "ipython",
    "version": 3
   },
   "file_extension": ".py",
   "mimetype": "text/x-python",
   "name": "python",
   "nbconvert_exporter": "python",
   "pygments_lexer": "ipython3",
   "version": "3.8.5"
  }
 },
 "nbformat": 4,
 "nbformat_minor": 5
}
