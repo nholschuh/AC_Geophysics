{
 "cells": [
  {
   "cell_type": "code",
   "execution_count": 1,
   "id": "nominated-destination",
   "metadata": {},
   "outputs": [],
   "source": [
    "import numpy as np\n",
    "import xarray as xr\n",
    "import matplotlib.pyplot as plt\n",
    "import s3fs as s3fs\n",
    "from matplotlib.widgets import Slider, Button, RadioButtons"
   ]
  },
  {
   "cell_type": "code",
   "execution_count": 2,
   "id": "southwest-target",
   "metadata": {},
   "outputs": [],
   "source": [
    "%matplotlib widget"
   ]
  },
  {
   "cell_type": "code",
   "execution_count": 3,
   "id": "sixth-ecology",
   "metadata": {},
   "outputs": [
    {
     "name": "stderr",
     "output_type": "stream",
     "text": [
      "/home/nick/.local/lib/python3.8/site-packages/h5netcdf/core.py:765: FutureWarning: String decoding changed with h5py >= 3.0. Currently backwards compatibility with h5py < 3.0 is kept by decoding vlen strings per default. This will change in future versions for consistency with h5py >= 3.0. Setting 'decode_vlen_strings=True' forces string decoding.\n",
      "  warnings.warn(msg, FutureWarning, stacklevel=0)\n"
     ]
    }
   ],
   "source": [
    "###### Here we build our AWS object (which acts like a local file), using the AWS URL info and the filename\n",
    "fs2 = s3fs.S3FileSystem(anon=True)\n",
    "filedir = 'amherst-holschuh-lab/Geol112_Lab_03/'\n",
    "filename = 'Complete_Ice7G.nc'\n",
    "fn = filedir+filename\n",
    "temp = xr.open_dataset(fs2.open(fn))\n",
    "final_data = temp.copy(deep=True)"
   ]
  },
  {
   "cell_type": "code",
   "execution_count": 4,
   "id": "correct-furniture",
   "metadata": {},
   "outputs": [
    {
     "data": {
      "application/vnd.jupyter.widget-view+json": {
       "model_id": "e8ae338347974b629e4c7e9045c654a7",
       "version_major": 2,
       "version_minor": 0
      },
      "text/plain": [
       "Canvas(toolbar=Toolbar(toolitems=[('Home', 'Reset original view', 'home', 'home'), ('Back', 'Back to previous …"
      ]
     },
     "metadata": {},
     "output_type": "display_data"
    },
    {
     "data": {
      "text/plain": [
       "0"
      ]
     },
     "execution_count": 4,
     "metadata": {},
     "output_type": "execute_result"
    }
   ],
   "source": [
    "fig, ax = plt.subplots()\n",
    "fig.set_size_inches(10,5)\n",
    "plt.subplots_adjust(left=0.25, bottom=0.25)\n",
    "\n",
    "im_data = plt.imshow(final_data['Topo'][0,:,:],origin='lower',cmap='gray')\n",
    "im_data2 = plt.imshow(final_data['Topo_Diff'][0,:,:],origin='lower',cmap='seismic',alpha=0.5,vmin=-100,vmax=100)\n",
    "im_data3 = plt.imshow(final_data['stgit'][0,:,:],origin='lower',cmap='cool',vmin=10000,vmax=50000)\n",
    "ax.margins(x=0)\n",
    "\n",
    "axtime= plt.axes([0.25, 0.05, 0.65, 0.03], facecolor=[1,1,1])\n",
    "\n",
    "stime = Slider(axtime, 'Age (kyr)', -21, 0, valinit=-21, valstep=0.5)\n",
    "\n",
    "\n",
    "def update(val):\n",
    "    plot_time = -1*stime.val\n",
    "    plot_ind = np.where(final_data['age'] == plot_time)[0][0]\n",
    "    ax.set_title('Age Before Present: '+str(plot_time)+' kyr')\n",
    "    im_data.set_data(final_data['Topo'][plot_ind,:,:])\n",
    "    im_data2.set_data(final_data['Topo_Diff'][plot_ind,:,:])\n",
    "    im_data3.set_data(final_data['stgit'][plot_ind,:,:])\n",
    "    ax.draw()\n",
    "\n",
    "\n",
    "stime.on_changed(update)"
   ]
  },
  {
   "cell_type": "code",
   "execution_count": null,
   "id": "infinite-puzzle",
   "metadata": {},
   "outputs": [],
   "source": []
  }
 ],
 "metadata": {
  "kernelspec": {
   "display_name": "Python 3",
   "language": "python",
   "name": "python3"
  },
  "language_info": {
   "codemirror_mode": {
    "name": "ipython",
    "version": 3
   },
   "file_extension": ".py",
   "mimetype": "text/x-python",
   "name": "python",
   "nbconvert_exporter": "python",
   "pygments_lexer": "ipython3",
   "version": "3.8.5"
  }
 },
 "nbformat": 4,
 "nbformat_minor": 5
}
